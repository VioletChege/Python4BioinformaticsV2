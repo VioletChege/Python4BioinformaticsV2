{
 "cells": [
  {
   "cell_type": "markdown",
   "id": "9298c7ab-19c1-40c4-a12a-40de1c8368f7",
   "metadata": {},
   "source": [
    "### Python for Beginners"
   ]
  },
  {
   "cell_type": "markdown",
   "id": "caffc7b5-ceeb-48c7-9197-691ba373be70",
   "metadata": {
    "tags": []
   },
   "source": [
    "#### Simple Calculations"
   ]
  },
  {
   "cell_type": "code",
   "execution_count": 1,
   "id": "7976e41d-1ca1-44d6-a56d-dd26e8243c55",
   "metadata": {},
   "outputs": [
    {
     "data": {
      "text/plain": [
       "7"
      ]
     },
     "execution_count": 1,
     "metadata": {},
     "output_type": "execute_result"
    }
   ],
   "source": [
    "3+4 "
   ]
  },
  {
   "cell_type": "code",
   "execution_count": 3,
   "id": "35c5d938-60b9-42fc-8ac2-743c556d47c0",
   "metadata": {},
   "outputs": [],
   "source": [
    "b=7"
   ]
  },
  {
   "cell_type": "code",
   "execution_count": 4,
   "id": "15edb488-84c0-4859-b6ca-9a3ed8aed14c",
   "metadata": {},
   "outputs": [
    {
     "data": {
      "text/plain": [
       "7"
      ]
     },
     "execution_count": 4,
     "metadata": {},
     "output_type": "execute_result"
    }
   ],
   "source": [
    "b"
   ]
  },
  {
   "cell_type": "code",
   "execution_count": 5,
   "id": "2c365891-a6c1-4d3e-b677-561878589827",
   "metadata": {},
   "outputs": [
    {
     "data": {
      "text/plain": [
       "15"
      ]
     },
     "execution_count": 5,
     "metadata": {},
     "output_type": "execute_result"
    }
   ],
   "source": [
    "8 + b"
   ]
  },
  {
   "cell_type": "markdown",
   "id": "08f3050a-3685-4cfb-8fe7-f5a42153df94",
   "metadata": {},
   "source": [
    "#### We can create a string in python"
   ]
  },
  {
   "cell_type": "code",
   "execution_count": 10,
   "id": "332a5d47-4856-48a9-a63c-0435cbabe449",
   "metadata": {},
   "outputs": [],
   "source": [
    "name = 'Violet'"
   ]
  },
  {
   "cell_type": "code",
   "execution_count": 17,
   "id": "9261a424-c569-467b-a74a-b0c8d2be66fa",
   "metadata": {},
   "outputs": [
    {
     "name": "stdout",
     "output_type": "stream",
     "text": [
      "My name is Violet\n"
     ]
    }
   ],
   "source": [
    "print('My name is ' + name)"
   ]
  },
  {
   "cell_type": "code",
   "execution_count": null,
   "id": "5f7f0b5e-281c-41c7-8164-18f566a6d07c",
   "metadata": {},
   "outputs": [],
   "source": []
  }
 ],
 "metadata": {
  "kernelspec": {
   "display_name": "Python 3 (ipykernel)",
   "language": "python",
   "name": "python3"
  },
  "language_info": {
   "codemirror_mode": {
    "name": "ipython",
    "version": 3
   },
   "file_extension": ".py",
   "mimetype": "text/x-python",
   "name": "python",
   "nbconvert_exporter": "python",
   "pygments_lexer": "ipython3",
   "version": "3.9.7"
  }
 },
 "nbformat": 4,
 "nbformat_minor": 5
}
